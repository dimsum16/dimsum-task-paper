{
 "cells": [
  {
   "cell_type": "code",
   "execution_count": 1,
   "metadata": {
    "collapsed": false
   },
   "outputs": [
    {
     "name": "stderr",
     "output_type": "stream",
     "text": [
      "Vendor:  Continuum Analytics, Inc.\n",
      "Package: mkl\n",
      "Message: trial mode expires in 22 days\n",
      "/Users/anders/anaconda/lib/python3.4/site-packages/matplotlib/__init__.py:872: UserWarning: axes.color_cycle is deprecated and replaced with axes.prop_cycle; please use the latter.\n",
      "  warnings.warn(self.msg_depr % (key, alt_key))\n"
     ]
    }
   ],
   "source": [
    "%matplotlib inline\n",
    "import pandas as pd\n",
    "import numpy as np\n",
    "import seaborn as sns\n",
    "\n",
    "def percentage_to_float(x):\n",
    "    return float(x.strip('%'))/100"
   ]
  },
  {
   "cell_type": "markdown",
   "metadata": {},
   "source": [
    "Read in results from Google shared document, reflowing it into a \"one-number-per-row\" format, where additional columns describe the attributes of that number. Relevant attributes here are *submission*, *domain*, and *task*."
   ]
  },
  {
   "cell_type": "code",
   "execution_count": 2,
   "metadata": {
    "collapsed": false
   },
   "outputs": [],
   "source": [
    "result_columns = ['μ-M', 'μ-S', 'μ-C', 'Tw-M', 'Tw-S', 'Tw-C', 'R-M', 'R-S', 'R-C', 'TED-M', 'TED-S', 'TED-C', 'Macro-C'] \n",
    "D = pd.read_csv(\"dimsum16_results.tsv\", sep=\"\\t\", index_col=0,\n",
    "                converters={col: percentage_to_float for col in result_columns})"
   ]
  },
  {
   "cell_type": "code",
   "execution_count": 3,
   "metadata": {
    "collapsed": false
   },
   "outputs": [],
   "source": [
    "per_measurement = D[result_columns].stack().reset_index()\n",
    "per_measurement = per_measurement.rename(columns={'level_1': 'measurement', 0: 'value', 'SYS': 'submission'})\n",
    "per_measurement['submission'] = [\"S\" + str(val) for val in per_measurement['submission']]"
   ]
  },
  {
   "cell_type": "code",
   "execution_count": 4,
   "metadata": {
    "collapsed": false
   },
   "outputs": [
    {
     "data": {
      "text/html": [
       "<div>\n",
       "<table border=\"1\" class=\"dataframe\">\n",
       "  <thead>\n",
       "    <tr style=\"text-align: right;\">\n",
       "      <th></th>\n",
       "      <th>submission</th>\n",
       "      <th>value</th>\n",
       "      <th>domain</th>\n",
       "      <th>task</th>\n",
       "    </tr>\n",
       "  </thead>\n",
       "  <tbody>\n",
       "    <tr>\n",
       "      <th>0</th>\n",
       "      <td>S214</td>\n",
       "      <td>0.5666</td>\n",
       "      <td>Micro-Avg.</td>\n",
       "      <td>M</td>\n",
       "    </tr>\n",
       "    <tr>\n",
       "      <th>1</th>\n",
       "      <td>S214</td>\n",
       "      <td>0.5755</td>\n",
       "      <td>Micro-Avg.</td>\n",
       "      <td>S</td>\n",
       "    </tr>\n",
       "    <tr>\n",
       "      <th>2</th>\n",
       "      <td>S214</td>\n",
       "      <td>0.5741</td>\n",
       "      <td>Micro-Avg.</td>\n",
       "      <td>C</td>\n",
       "    </tr>\n",
       "    <tr>\n",
       "      <th>3</th>\n",
       "      <td>S214</td>\n",
       "      <td>0.5949</td>\n",
       "      <td>Twitter</td>\n",
       "      <td>M</td>\n",
       "    </tr>\n",
       "    <tr>\n",
       "      <th>4</th>\n",
       "      <td>S214</td>\n",
       "      <td>0.5599</td>\n",
       "      <td>Twitter</td>\n",
       "      <td>S</td>\n",
       "    </tr>\n",
       "  </tbody>\n",
       "</table>\n",
       "</div>"
      ],
      "text/plain": [
       "  submission   value      domain task\n",
       "0       S214  0.5666  Micro-Avg.    M\n",
       "1       S214  0.5755  Micro-Avg.    S\n",
       "2       S214  0.5741  Micro-Avg.    C\n",
       "3       S214  0.5949     Twitter    M\n",
       "4       S214  0.5599     Twitter    S"
      ]
     },
     "execution_count": 4,
     "metadata": {},
     "output_type": "execute_result"
    }
   ],
   "source": [
    "per_measurement['domain'] = per_measurement.measurement.str.split('-').str[0]\n",
    "for old_str, new_str in [('Tw', 'Twitter'), ('R', 'Reviews'), ('μ', 'Micro-Avg.')]:\n",
    "    per_measurement.domain = per_measurement.domain.str.replace(old_str, new_str)\n",
    "\n",
    "per_measurement['task'] = per_measurement.measurement.str.split('-').str[1]\n",
    "del per_measurement['measurement']\n",
    "\n",
    "per_measurement.head()"
   ]
  },
  {
   "cell_type": "markdown",
   "metadata": {},
   "source": [
    "## Main results"
   ]
  },
  {
   "cell_type": "code",
   "execution_count": 5,
   "metadata": {
    "collapsed": false
   },
   "outputs": [
    {
     "name": "stdout",
     "output_type": "stream",
     "text": [
      "\\begin{tabular}{rllrl}\n",
      "\\toprule\n",
      " Rank & System &           Team &   Score & Res. \\\\\n",
      "\\midrule\n",
      "    1 &   S214 &         ICL-HD &  0.5777 &   ++ \\\\\n",
      "    2 &   S249 &         UW-CSE &  0.5771 &   ++ \\\\\n",
      "    3 &   S248 &         UW-CSE &  0.5710 &      \\\\\n",
      "    4 &   S106 &          UFRGS &  0.5027 &      \\\\\n",
      "    5 &   S227 &  VectorWeavers &  0.4994 &   ++ \\\\\n",
      "    6 &   S255 &           BCED &  0.4713 &   ++ \\\\\n",
      "    7 &   S211 &           BCED &  0.4617 &    + \\\\\n",
      "    8 &   S254 &           BCED &  0.4579 &      \\\\\n",
      "    9 &   S108 &         WHUNlp &  0.2571 &      \\\\\n",
      "\\bottomrule\n",
      "\\end{tabular}\n",
      "\n"
     ]
    }
   ],
   "source": [
    "main = pd.read_csv(\"main_results.csv\", index_col=0)\n",
    "main = main.sort_values('Macro-C', ascending=False)\n",
    "main['Rank'] = range(1, len(main) + 1)\n",
    "main['SYS'] = [\"S\" + str(val) for val in main['SYS']]\n",
    "main = main.rename(columns={'SYS': 'System', 'Resources': 'Res.', 'Macro-C': 'Score'})\n",
    "\n",
    "col_order = ['Rank', 'System', 'Team', 'Score', 'Res.']\n",
    "\n",
    "print(main[col_order].to_latex(index=False, na_rep=''))"
   ]
  },
  {
   "cell_type": "markdown",
   "metadata": {},
   "source": [
    "Numbers separated by task and domain"
   ]
  },
  {
   "cell_type": "code",
   "execution_count": 6,
   "metadata": {
    "collapsed": false
   },
   "outputs": [
    {
     "name": "stdout",
     "output_type": "stream",
     "text": [
      "\\begin{tabular}{lrrrr}\n",
      "\\toprule\n",
      "domain &  Reviews &     TED &  Twitter &  Micro-Avg. \\\\\n",
      "submission &          &         &          &             \\\\\n",
      "\\midrule\n",
      "S106       &   0.4957 &  0.5676 &   0.5116 &      0.5148 \\\\\n",
      "S108       &   0.2639 &  0.3344 &   0.3418 &      0.3098 \\\\\n",
      "S211       &   0.0907 &  0.1828 &   0.1576 &      0.1346 \\\\\n",
      "S214       &   0.5337 &  0.5714 &   0.5949 &      0.5666 \\\\\n",
      "S227       &   0.3618 &  0.4176 &   0.3932 &      0.3849 \\\\\n",
      "S248       &   0.5396 &  0.5235 &   0.5448 &      0.5393 \\\\\n",
      "S249       &   0.5480 &  0.5348 &   0.6109 &      0.5724 \\\\\n",
      "S254       &   0.0705 &  0.1630 &   0.0634 &      0.0820 \\\\\n",
      "S255       &   0.0868 &  0.2011 &   0.1550 &      0.1348 \\\\\n",
      "\\bottomrule\n",
      "\\end{tabular}\n",
      "\n",
      "\\begin{tabular}{lrrrr}\n",
      "\\toprule\n",
      "domain &  Reviews &     TED &  Twitter &  Micro-Avg. \\\\\n",
      "submission &          &         &          &             \\\\\n",
      "\\midrule\n",
      "S106       &   0.5093 &  0.4961 &   0.4920 &      0.4998 \\\\\n",
      "S108       &   0.2582 &  0.2468 &   0.2463 &      0.2514 \\\\\n",
      "S211       &   0.5200 &  0.5140 &   0.4995 &      0.5111 \\\\\n",
      "S214       &   0.5766 &  0.6006 &   0.5599 &      0.5755 \\\\\n",
      "S227       &   0.5136 &  0.5200 &   0.5170 &      0.5162 \\\\\n",
      "S248       &   0.5719 &  0.5911 &   0.5682 &      0.5747 \\\\\n",
      "S249       &   0.5700 &  0.5917 &   0.5746 &      0.5764 \\\\\n",
      "S254       &   0.5268 &  0.5144 &   0.4966 &      0.5129 \\\\\n",
      "S255       &   0.5198 &  0.5328 &   0.5111 &      0.5193 \\\\\n",
      "\\bottomrule\n",
      "\\end{tabular}\n",
      "\n",
      "\\begin{tabular}{lrrrr}\n",
      "\\toprule\n",
      "domain &  Reviews &     TED &  Twitter &  Micro-Avg. \\\\\n",
      "submission &          &         &          &             \\\\\n",
      "\\midrule\n",
      "S106       &   0.5071 &  0.5057 &   0.4954 &      0.5022 \\\\\n",
      "S108       &   0.2586 &  0.2539 &   0.2587 &      0.2576 \\\\\n",
      "S211       &   0.4619 &  0.4790 &   0.4442 &      0.4586 \\\\\n",
      "S214       &   0.5698 &  0.5971 &   0.5663 &      0.5741 \\\\\n",
      "S227       &   0.4925 &  0.5082 &   0.4974 &      0.4977 \\\\\n",
      "S248       &   0.5666 &  0.5826 &   0.5638 &      0.5688 \\\\\n",
      "S249       &   0.5661 &  0.5833 &   0.5818 &      0.5757 \\\\\n",
      "S254       &   0.4657 &  0.4782 &   0.4299 &      0.4547 \\\\\n",
      "S255       &   0.4615 &  0.4981 &   0.4544 &      0.4664 \\\\\n",
      "\\bottomrule\n",
      "\\end{tabular}\n",
      "\n"
     ]
    }
   ],
   "source": [
    "def latex_table_per_task(task_name):\n",
    "    task_S = per_measurement[per_measurement.task == task_name]\n",
    "    del task_S['task']\n",
    "    task_S = task_S.set_index(['submission', 'domain']).unstack('domain')\n",
    "    task_S.columns = task_S.columns.levels[1]\n",
    "    task_S = task_S[['Reviews', 'TED', 'Twitter', 'Micro-Avg.']]\n",
    "    print(task_S.to_latex())\n",
    "    \n",
    "latex_table_per_task('M')\n",
    "latex_table_per_task('S')\n",
    "latex_table_per_task('C')\n",
    "\n"
   ]
  },
  {
   "cell_type": "code",
   "execution_count": null,
   "metadata": {
    "collapsed": true
   },
   "outputs": [],
   "source": []
  }
 ],
 "metadata": {
  "kernelspec": {
   "display_name": "Python 3",
   "language": "python",
   "name": "python3"
  },
  "language_info": {
   "codemirror_mode": {
    "name": "ipython",
    "version": 3
   },
   "file_extension": ".py",
   "mimetype": "text/x-python",
   "name": "python",
   "nbconvert_exporter": "python",
   "pygments_lexer": "ipython3",
   "version": "3.4.3"
  }
 },
 "nbformat": 4,
 "nbformat_minor": 0
}
